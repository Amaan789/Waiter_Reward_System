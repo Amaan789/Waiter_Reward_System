{
 "cells": [
  {
   "cell_type": "code",
   "execution_count": 1,
   "id": "4e757dc3",
   "metadata": {},
   "outputs": [],
   "source": [
    "import random \n",
    "import numpy as np\n",
    "import pandas as pd"
   ]
  },
  {
   "cell_type": "code",
   "execution_count": 7,
   "id": "eda51a6d",
   "metadata": {},
   "outputs": [],
   "source": [
    "working_hourse = pd.DataFrame(np.random.randint(0,5,1000), columns=['Extra_working_hourse'])\n",
    "performence_rating = pd.DataFrame(np.random.randint(1,6,1000), columns=['performence_rating'])\n",
    "total_task = pd.DataFrame(np.random.randint(100,200,1000), columns=['total_task'])\n",
    "table_served = pd.DataFrame(np.random.randint(300,800,1000), columns=['tables_served'])\n",
    "order_taken = pd.DataFrame(np.random.randint(300,800,1000), columns=['order_taken'])"
   ]
  },
  {
   "cell_type": "code",
   "execution_count": 8,
   "id": "bfa9e0fa",
   "metadata": {},
   "outputs": [],
   "source": [
    "df = pd.concat([working_hourse,performence_rating,total_task,table_served,order_taken], axis=1)"
   ]
  },
  {
   "cell_type": "code",
   "execution_count": 9,
   "id": "5991098f",
   "metadata": {},
   "outputs": [
    {
     "data": {
      "text/html": [
       "<div>\n",
       "<style scoped>\n",
       "    .dataframe tbody tr th:only-of-type {\n",
       "        vertical-align: middle;\n",
       "    }\n",
       "\n",
       "    .dataframe tbody tr th {\n",
       "        vertical-align: top;\n",
       "    }\n",
       "\n",
       "    .dataframe thead th {\n",
       "        text-align: right;\n",
       "    }\n",
       "</style>\n",
       "<table border=\"1\" class=\"dataframe\">\n",
       "  <thead>\n",
       "    <tr style=\"text-align: right;\">\n",
       "      <th></th>\n",
       "      <th>Extra_working_hourse</th>\n",
       "      <th>performence_rating</th>\n",
       "      <th>total_task</th>\n",
       "      <th>tables_served</th>\n",
       "      <th>order_taken</th>\n",
       "    </tr>\n",
       "  </thead>\n",
       "  <tbody>\n",
       "    <tr>\n",
       "      <th>0</th>\n",
       "      <td>3</td>\n",
       "      <td>2</td>\n",
       "      <td>188</td>\n",
       "      <td>452</td>\n",
       "      <td>628</td>\n",
       "    </tr>\n",
       "    <tr>\n",
       "      <th>1</th>\n",
       "      <td>3</td>\n",
       "      <td>5</td>\n",
       "      <td>198</td>\n",
       "      <td>726</td>\n",
       "      <td>451</td>\n",
       "    </tr>\n",
       "    <tr>\n",
       "      <th>2</th>\n",
       "      <td>0</td>\n",
       "      <td>1</td>\n",
       "      <td>130</td>\n",
       "      <td>539</td>\n",
       "      <td>397</td>\n",
       "    </tr>\n",
       "    <tr>\n",
       "      <th>3</th>\n",
       "      <td>2</td>\n",
       "      <td>4</td>\n",
       "      <td>155</td>\n",
       "      <td>560</td>\n",
       "      <td>750</td>\n",
       "    </tr>\n",
       "    <tr>\n",
       "      <th>4</th>\n",
       "      <td>1</td>\n",
       "      <td>2</td>\n",
       "      <td>162</td>\n",
       "      <td>392</td>\n",
       "      <td>406</td>\n",
       "    </tr>\n",
       "  </tbody>\n",
       "</table>\n",
       "</div>"
      ],
      "text/plain": [
       "   Extra_working_hourse  performence_rating  total_task  tables_served  \\\n",
       "0                     3                   2         188            452   \n",
       "1                     3                   5         198            726   \n",
       "2                     0                   1         130            539   \n",
       "3                     2                   4         155            560   \n",
       "4                     1                   2         162            392   \n",
       "\n",
       "   order_taken  \n",
       "0          628  \n",
       "1          451  \n",
       "2          397  \n",
       "3          750  \n",
       "4          406  "
      ]
     },
     "execution_count": 9,
     "metadata": {},
     "output_type": "execute_result"
    }
   ],
   "source": [
    "df.head()"
   ]
  },
  {
   "cell_type": "code",
   "execution_count": 5,
   "id": "df368021",
   "metadata": {},
   "outputs": [],
   "source": [
    "quantiles = df.iloc[:,[2,3,5]].quantile(q=[0.25, 0.5, 0.75])\n",
    "quantiles= quantiles.to_dict()"
   ]
  },
  {
   "cell_type": "code",
   "execution_count": 6,
   "id": "8a06beaa",
   "metadata": {},
   "outputs": [
    {
     "data": {
      "text/plain": [
       "{'tables_served': {0.25: 424.75, 0.5: 552.0, 0.75: 671.25},\n",
       " 'order_taken': {0.25: 438.5, 0.5: 559.0, 0.75: 682.0},\n",
       " 'total_delivery': {0.25: 75.0, 0.5: 101.0, 0.75: 124.0}}"
      ]
     },
     "execution_count": 6,
     "metadata": {},
     "output_type": "execute_result"
    }
   ],
   "source": [
    "quantiles"
   ]
  },
  {
   "cell_type": "code",
   "execution_count": null,
   "id": "bb7f1c6e",
   "metadata": {},
   "outputs": [],
   "source": []
  }
 ],
 "metadata": {
  "kernelspec": {
   "display_name": "Python 3",
   "language": "python",
   "name": "python3"
  },
  "language_info": {
   "codemirror_mode": {
    "name": "ipython",
    "version": 3
   },
   "file_extension": ".py",
   "mimetype": "text/x-python",
   "name": "python",
   "nbconvert_exporter": "python",
   "pygments_lexer": "ipython3",
   "version": "3.8.8"
  }
 },
 "nbformat": 4,
 "nbformat_minor": 5
}
