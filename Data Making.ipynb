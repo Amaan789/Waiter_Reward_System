{
 "cells": [
  {
   "cell_type": "code",
   "execution_count": 1,
   "id": "4e757dc3",
   "metadata": {},
   "outputs": [],
   "source": [
    "import random \n",
    "import numpy as np\n",
    "import pandas as pd"
   ]
  },
  {
   "cell_type": "code",
   "execution_count": 2,
   "id": "bb7f1c6e",
   "metadata": {},
   "outputs": [],
   "source": [
    "# waiter_id = pd.DataFrame(np.arange(1,1001), columns = ['Waiter_id'])\n",
    "# extra_working_hours = pd.DataFrame(np.random.randint(1,5,1000), columns = ['Extra_Working_hours'])\n",
    "# customer_satisfaction_score = pd.DataFrame(np.random.randint(1,5,1000), columns = ['customer_satisfaction_score'])\n",
    "# table_served = pd.DataFrame(np.random.randint(300,500,1000), columns = ['table_served'])\n",
    "# table_turnover_time = pd.DataFrame(np.random.randint(10,40,1000), columns = ['table_turnover_time'])\n",
    "# sales_revenue = pd.DataFrame(np.random.randint(1000,5000,1000), columns = ['sales_revenue'])"
   ]
  },
  {
   "cell_type": "code",
   "execution_count": 3,
   "id": "e568bd2f",
   "metadata": {},
   "outputs": [],
   "source": [
    "# waiter_df = pd.concat([waiter_id, extra_working_hours, customer_satisfaction_score, table_served, table_turnover_time, \n",
    "#                       order_accuracy_score, sales_revenue], axis=1)"
   ]
  },
  {
   "cell_type": "code",
   "execution_count": 4,
   "id": "cf8a50fb",
   "metadata": {},
   "outputs": [],
   "source": [
    "# waiter_df"
   ]
  },
  {
   "cell_type": "code",
   "execution_count": 5,
   "id": "642147e2",
   "metadata": {},
   "outputs": [],
   "source": [
    "# waiter_df.to_csv('Waiter_reward.csv', index=False)"
   ]
  },
  {
   "cell_type": "code",
   "execution_count": 6,
   "id": "dc8d0ed6",
   "metadata": {},
   "outputs": [],
   "source": [
    "# df = pd.read_csv('Waiter_reward.csv')"
   ]
  },
  {
   "cell_type": "code",
   "execution_count": 7,
   "id": "dc905ab5",
   "metadata": {},
   "outputs": [],
   "source": [
    "# df.head()"
   ]
  },
  {
   "cell_type": "code",
   "execution_count": 8,
   "id": "badb06c1",
   "metadata": {},
   "outputs": [],
   "source": [
    "# quantiles = df.iloc[:,3:].quantile(q=[0.25, 0.5, 0.75])\n",
    "# quantiles= quantiles.to_dict()"
   ]
  },
  {
   "cell_type": "code",
   "execution_count": 9,
   "id": "8e19f0f3",
   "metadata": {},
   "outputs": [],
   "source": [
    "# quantiles"
   ]
  },
  {
   "cell_type": "code",
   "execution_count": 10,
   "id": "eeccf065",
   "metadata": {},
   "outputs": [],
   "source": [
    "# def table_scoring(x, p, d):\n",
    "#     if x <= d[p][0.25]:\n",
    "#         return 1\n",
    "#     elif x <=d[p][0.5]:\n",
    "#         return 2\n",
    "#     elif x <= d[p][0.75]:\n",
    "#         return 3\n",
    "#     else:\n",
    "#         return 4\n",
    "\n",
    "# def table_turnover_score(x, p, d):\n",
    "#     if x <= d[p][0.25]:\n",
    "#         return 4\n",
    "#     elif x <=d[p][0.5]:\n",
    "#         return 3\n",
    "#     elif x <= d[p][0.75]:\n",
    "#         return 2\n",
    "#     else:\n",
    "#         return 1\n",
    "    \n",
    "# def order_accuracy_score(x, p, d):\n",
    "#     if x <= d[p][0.25]:\n",
    "#         return 1\n",
    "#     elif x <=d[p][0.5]:\n",
    "#         return 2\n",
    "#     elif x <= d[p][0.75]:\n",
    "#         return 3\n",
    "#     else:\n",
    "#         return 4\n",
    "    \n",
    "# def sales_revenue_score(x, p, d):\n",
    "#     if x <= d[p][0.25]:\n",
    "#         return 1\n",
    "#     elif x <=d[p][0.5]:\n",
    "#         return 2\n",
    "#     elif x <= d[p][0.75]:\n",
    "#         return 3\n",
    "#     else:\n",
    "#         return 4"
   ]
  },
  {
   "cell_type": "code",
   "execution_count": 11,
   "id": "1e9bbd01",
   "metadata": {},
   "outputs": [],
   "source": [
    "# df['table_served_scoring'] = df['table_served'].apply(table_scoring, args=('table_served', quantiles))\n",
    "# df['table_turnover_scoring'] = df['table_turnover_time'].apply(table_turnover_score, args=('table_turnover_time', quantiles))\n",
    "# df['order_accuracy_scoring'] = df['order_accuracy_score'].apply(order_accuracy_score, args=('order_accuracy_score', quantiles))\n",
    "# df['sales_revenue_scoring'] = df['sales_revenue'].apply(sales_revenue_score, args=('sales_revenue', quantiles))\n",
    "# df.head()"
   ]
  },
  {
   "cell_type": "code",
   "execution_count": 12,
   "id": "13cdf80b",
   "metadata": {},
   "outputs": [],
   "source": [
    "# df.drop(['Waiter_id', 'table_served', 'table_turnover_time', 'order_accuracy_score', 'sales_revenue'], axis=1, inplace=True)"
   ]
  },
  {
   "cell_type": "code",
   "execution_count": 13,
   "id": "29a156ed",
   "metadata": {},
   "outputs": [],
   "source": [
    "# df.head()"
   ]
  },
  {
   "cell_type": "code",
   "execution_count": 14,
   "id": "9c1b14ba",
   "metadata": {},
   "outputs": [],
   "source": [
    "# df['Total_score'] = df[['Extra_Working_hours','customer_satisfaction_score','table_served_scoring','table_turnover_scoring',\n",
    "#                        'order_accuracy_scoring','sales_revenue_scoring']].sum(axis=1) "
   ]
  },
  {
   "cell_type": "code",
   "execution_count": 15,
   "id": "fa10b13e",
   "metadata": {},
   "outputs": [],
   "source": [
    "# df.head()"
   ]
  },
  {
   "cell_type": "code",
   "execution_count": 16,
   "id": "391c6009",
   "metadata": {},
   "outputs": [],
   "source": [
    "# df['Total_score'].to_csv('Total_score.csv', index=False)"
   ]
  },
  {
   "cell_type": "code",
   "execution_count": 1,
   "id": "2ad56089",
   "metadata": {},
   "outputs": [],
   "source": [
    "import random \n",
    "import numpy as np\n",
    "import pandas as pd"
   ]
  },
  {
   "cell_type": "code",
   "execution_count": 17,
   "id": "a1b722f0",
   "metadata": {},
   "outputs": [],
   "source": [
    "waiter_id = pd.DataFrame(np.arange(1,1001), columns = ['Waiter_id'])\n",
    "extra_working_hours = pd.DataFrame(np.random.randint(0,5,1000), columns = ['Extra_Working_hours'])\n",
    "customer_satisfaction_score = pd.DataFrame(np.random.randint(1,5,1000), columns = ['customer_satisfaction_score'])\n",
    "table_served = pd.DataFrame(np.random.randint(300,500,1000), columns = ['table_served'])\n",
    "table_turnover_time = pd.DataFrame(np.random.randint(180,600,1000), columns = ['table_turnover_time'])\n",
    "sales_revenue = pd.DataFrame(np.random.randint(1000,5000,1000), columns = ['sales_revenue'])"
   ]
  },
  {
   "cell_type": "code",
   "execution_count": 18,
   "id": "4e7c957f",
   "metadata": {},
   "outputs": [],
   "source": [
    "waiter_df = pd.concat([waiter_id, extra_working_hours, customer_satisfaction_score, table_served, \n",
    "                       table_turnover_time, sales_revenue], axis=1)"
   ]
  },
  {
   "cell_type": "code",
   "execution_count": 19,
   "id": "cc982cc6",
   "metadata": {},
   "outputs": [],
   "source": [
    "def table_served(x):\n",
    "    if x == 0:\n",
    "        return np.random.randint(70,80)\n",
    "    elif x == 1:\n",
    "        return np.random.randint(80,90)\n",
    "    elif x == 2:\n",
    "        return np.random.randint(90,100)\n",
    "    elif x == 3:\n",
    "        return np.random.randint(100,120)\n",
    "    elif x == 4:\n",
    "        return np.random.randint(120,150)\n",
    "    else :\n",
    "        return np.random.randint(150,200)\n",
    "    \n",
    "def sales_revenue(x):\n",
    "    if x == 0:\n",
    "        return np.random.randint(4000,4200)\n",
    "    elif x == 1:\n",
    "        return np.random.randint(4200,4500)\n",
    "    elif x == 2:\n",
    "        return np.random.randint(4500,4800)\n",
    "    elif x == 3:\n",
    "        return np.random.randint(4800,5200)\n",
    "    elif x == 4:\n",
    "        return np.random.randint(5200,5600)\n",
    "    else :\n",
    "        return np.random.randint(5600,6100)"
   ]
  },
  {
   "cell_type": "code",
   "execution_count": 20,
   "id": "a1c1b5b8",
   "metadata": {},
   "outputs": [],
   "source": [
    "waiter_df['table_served'] = waiter_df['Extra_Working_hours'].apply(table_served)\n",
    "waiter_df['sales_revenue'] = waiter_df['Extra_Working_hours'].apply(sales_revenue)"
   ]
  },
  {
   "cell_type": "code",
   "execution_count": 21,
   "id": "2474d1b7",
   "metadata": {},
   "outputs": [
    {
     "data": {
      "text/html": [
       "<div>\n",
       "<style scoped>\n",
       "    .dataframe tbody tr th:only-of-type {\n",
       "        vertical-align: middle;\n",
       "    }\n",
       "\n",
       "    .dataframe tbody tr th {\n",
       "        vertical-align: top;\n",
       "    }\n",
       "\n",
       "    .dataframe thead th {\n",
       "        text-align: right;\n",
       "    }\n",
       "</style>\n",
       "<table border=\"1\" class=\"dataframe\">\n",
       "  <thead>\n",
       "    <tr style=\"text-align: right;\">\n",
       "      <th></th>\n",
       "      <th>Waiter_id</th>\n",
       "      <th>Extra_Working_hours</th>\n",
       "      <th>customer_satisfaction_score</th>\n",
       "      <th>table_served</th>\n",
       "      <th>table_turnover_time</th>\n",
       "      <th>sales_revenue</th>\n",
       "    </tr>\n",
       "  </thead>\n",
       "  <tbody>\n",
       "    <tr>\n",
       "      <th>0</th>\n",
       "      <td>1</td>\n",
       "      <td>1</td>\n",
       "      <td>4</td>\n",
       "      <td>89</td>\n",
       "      <td>222</td>\n",
       "      <td>4446</td>\n",
       "    </tr>\n",
       "    <tr>\n",
       "      <th>1</th>\n",
       "      <td>2</td>\n",
       "      <td>3</td>\n",
       "      <td>1</td>\n",
       "      <td>110</td>\n",
       "      <td>278</td>\n",
       "      <td>5098</td>\n",
       "    </tr>\n",
       "    <tr>\n",
       "      <th>2</th>\n",
       "      <td>3</td>\n",
       "      <td>4</td>\n",
       "      <td>4</td>\n",
       "      <td>144</td>\n",
       "      <td>278</td>\n",
       "      <td>5550</td>\n",
       "    </tr>\n",
       "    <tr>\n",
       "      <th>3</th>\n",
       "      <td>4</td>\n",
       "      <td>2</td>\n",
       "      <td>1</td>\n",
       "      <td>95</td>\n",
       "      <td>479</td>\n",
       "      <td>4579</td>\n",
       "    </tr>\n",
       "    <tr>\n",
       "      <th>4</th>\n",
       "      <td>5</td>\n",
       "      <td>0</td>\n",
       "      <td>1</td>\n",
       "      <td>79</td>\n",
       "      <td>253</td>\n",
       "      <td>4137</td>\n",
       "    </tr>\n",
       "  </tbody>\n",
       "</table>\n",
       "</div>"
      ],
      "text/plain": [
       "   Waiter_id  Extra_Working_hours  customer_satisfaction_score  table_served  \\\n",
       "0          1                    1                            4            89   \n",
       "1          2                    3                            1           110   \n",
       "2          3                    4                            4           144   \n",
       "3          4                    2                            1            95   \n",
       "4          5                    0                            1            79   \n",
       "\n",
       "   table_turnover_time  sales_revenue  \n",
       "0                  222           4446  \n",
       "1                  278           5098  \n",
       "2                  278           5550  \n",
       "3                  479           4579  \n",
       "4                  253           4137  "
      ]
     },
     "execution_count": 21,
     "metadata": {},
     "output_type": "execute_result"
    }
   ],
   "source": [
    "waiter_df.head()"
   ]
  },
  {
   "cell_type": "code",
   "execution_count": 22,
   "id": "f02aa805",
   "metadata": {},
   "outputs": [],
   "source": [
    "waiter_df.to_csv('Waiter_reward.csv', index=False)"
   ]
  },
  {
   "cell_type": "code",
   "execution_count": 23,
   "id": "371f8952",
   "metadata": {},
   "outputs": [],
   "source": [
    "quantiles = waiter_df.iloc[:,3:].quantile(q=[0.25, 0.5, 0.75])\n",
    "quantiles= quantiles.to_dict()"
   ]
  },
  {
   "cell_type": "code",
   "execution_count": 24,
   "id": "0231acd0",
   "metadata": {},
   "outputs": [
    {
     "data": {
      "text/plain": [
       "{'table_served': {0.25: 83.0, 0.5: 95.0, 0.75: 115.0},\n",
       " 'table_turnover_time': {0.25: 287.0, 0.5: 395.0, 0.75: 498.25},\n",
       " 'sales_revenue': {0.25: 4288.75, 0.5: 4659.5, 0.75: 5084.5}}"
      ]
     },
     "execution_count": 24,
     "metadata": {},
     "output_type": "execute_result"
    }
   ],
   "source": [
    "quantiles"
   ]
  },
  {
   "cell_type": "code",
   "execution_count": 25,
   "id": "9589f1cd",
   "metadata": {},
   "outputs": [],
   "source": [
    "def table_scoring(x, p, d):\n",
    "    if x <= d[p][0.25]:\n",
    "        return 1\n",
    "    elif x <=d[p][0.5]:\n",
    "        return 2\n",
    "    elif x <= d[p][0.75]:\n",
    "        return 3\n",
    "    else:\n",
    "        return 4\n",
    "\n",
    "def table_turnover_score(x, p, d):\n",
    "    if x <= d[p][0.25]:\n",
    "        return 4\n",
    "    elif x <=d[p][0.5]:\n",
    "        return 3\n",
    "    elif x <= d[p][0.75]:\n",
    "        return 2\n",
    "    else:\n",
    "        return 1\n",
    "    \n",
    "def sales_revenue_score(x, p, d):\n",
    "    if x <= d[p][0.25]:\n",
    "        return 1\n",
    "    elif x <=d[p][0.5]:\n",
    "        return 2\n",
    "    elif x <= d[p][0.75]:\n",
    "        return 3\n",
    "    else:\n",
    "        return 4"
   ]
  },
  {
   "cell_type": "code",
   "execution_count": 26,
   "id": "527f284b",
   "metadata": {},
   "outputs": [
    {
     "data": {
      "text/html": [
       "<div>\n",
       "<style scoped>\n",
       "    .dataframe tbody tr th:only-of-type {\n",
       "        vertical-align: middle;\n",
       "    }\n",
       "\n",
       "    .dataframe tbody tr th {\n",
       "        vertical-align: top;\n",
       "    }\n",
       "\n",
       "    .dataframe thead th {\n",
       "        text-align: right;\n",
       "    }\n",
       "</style>\n",
       "<table border=\"1\" class=\"dataframe\">\n",
       "  <thead>\n",
       "    <tr style=\"text-align: right;\">\n",
       "      <th></th>\n",
       "      <th>Waiter_id</th>\n",
       "      <th>Extra_Working_hours</th>\n",
       "      <th>customer_satisfaction_score</th>\n",
       "      <th>table_served</th>\n",
       "      <th>table_turnover_time</th>\n",
       "      <th>sales_revenue</th>\n",
       "      <th>table_served_scoring</th>\n",
       "      <th>table_turnover_scoring</th>\n",
       "      <th>sales_revenue_scoring</th>\n",
       "    </tr>\n",
       "  </thead>\n",
       "  <tbody>\n",
       "    <tr>\n",
       "      <th>0</th>\n",
       "      <td>1</td>\n",
       "      <td>1</td>\n",
       "      <td>4</td>\n",
       "      <td>89</td>\n",
       "      <td>222</td>\n",
       "      <td>4446</td>\n",
       "      <td>2</td>\n",
       "      <td>4</td>\n",
       "      <td>2</td>\n",
       "    </tr>\n",
       "    <tr>\n",
       "      <th>1</th>\n",
       "      <td>2</td>\n",
       "      <td>3</td>\n",
       "      <td>1</td>\n",
       "      <td>110</td>\n",
       "      <td>278</td>\n",
       "      <td>5098</td>\n",
       "      <td>3</td>\n",
       "      <td>4</td>\n",
       "      <td>4</td>\n",
       "    </tr>\n",
       "    <tr>\n",
       "      <th>2</th>\n",
       "      <td>3</td>\n",
       "      <td>4</td>\n",
       "      <td>4</td>\n",
       "      <td>144</td>\n",
       "      <td>278</td>\n",
       "      <td>5550</td>\n",
       "      <td>4</td>\n",
       "      <td>4</td>\n",
       "      <td>4</td>\n",
       "    </tr>\n",
       "    <tr>\n",
       "      <th>3</th>\n",
       "      <td>4</td>\n",
       "      <td>2</td>\n",
       "      <td>1</td>\n",
       "      <td>95</td>\n",
       "      <td>479</td>\n",
       "      <td>4579</td>\n",
       "      <td>2</td>\n",
       "      <td>2</td>\n",
       "      <td>2</td>\n",
       "    </tr>\n",
       "    <tr>\n",
       "      <th>4</th>\n",
       "      <td>5</td>\n",
       "      <td>0</td>\n",
       "      <td>1</td>\n",
       "      <td>79</td>\n",
       "      <td>253</td>\n",
       "      <td>4137</td>\n",
       "      <td>1</td>\n",
       "      <td>4</td>\n",
       "      <td>1</td>\n",
       "    </tr>\n",
       "  </tbody>\n",
       "</table>\n",
       "</div>"
      ],
      "text/plain": [
       "   Waiter_id  Extra_Working_hours  customer_satisfaction_score  table_served  \\\n",
       "0          1                    1                            4            89   \n",
       "1          2                    3                            1           110   \n",
       "2          3                    4                            4           144   \n",
       "3          4                    2                            1            95   \n",
       "4          5                    0                            1            79   \n",
       "\n",
       "   table_turnover_time  sales_revenue  table_served_scoring  \\\n",
       "0                  222           4446                     2   \n",
       "1                  278           5098                     3   \n",
       "2                  278           5550                     4   \n",
       "3                  479           4579                     2   \n",
       "4                  253           4137                     1   \n",
       "\n",
       "   table_turnover_scoring  sales_revenue_scoring  \n",
       "0                       4                      2  \n",
       "1                       4                      4  \n",
       "2                       4                      4  \n",
       "3                       2                      2  \n",
       "4                       4                      1  "
      ]
     },
     "execution_count": 26,
     "metadata": {},
     "output_type": "execute_result"
    }
   ],
   "source": [
    "waiter_df['table_served_scoring'] = waiter_df['table_served'].apply(table_scoring, args=('table_served', quantiles))\n",
    "waiter_df['table_turnover_scoring'] = waiter_df['table_turnover_time'].apply(table_turnover_score, args=('table_turnover_time', quantiles))\n",
    "waiter_df['sales_revenue_scoring'] = waiter_df['sales_revenue'].apply(sales_revenue_score, args=('sales_revenue', quantiles))\n",
    "waiter_df.head()"
   ]
  },
  {
   "cell_type": "code",
   "execution_count": 27,
   "id": "23f7a5a4",
   "metadata": {},
   "outputs": [],
   "source": [
    "waiter_df.drop(['Waiter_id', 'table_served', 'table_turnover_time', 'sales_revenue'], axis=1, inplace=True)"
   ]
  },
  {
   "cell_type": "code",
   "execution_count": 28,
   "id": "70a086a5",
   "metadata": {},
   "outputs": [],
   "source": [
    "waiter_df['Total_score'] = waiter_df[['Extra_Working_hours','customer_satisfaction_score','table_served_scoring',\n",
    "                                      'table_turnover_scoring','sales_revenue_scoring']].sum(axis=1) "
   ]
  },
  {
   "cell_type": "code",
   "execution_count": 29,
   "id": "c50fc1ff",
   "metadata": {},
   "outputs": [
    {
     "data": {
      "text/html": [
       "<div>\n",
       "<style scoped>\n",
       "    .dataframe tbody tr th:only-of-type {\n",
       "        vertical-align: middle;\n",
       "    }\n",
       "\n",
       "    .dataframe tbody tr th {\n",
       "        vertical-align: top;\n",
       "    }\n",
       "\n",
       "    .dataframe thead th {\n",
       "        text-align: right;\n",
       "    }\n",
       "</style>\n",
       "<table border=\"1\" class=\"dataframe\">\n",
       "  <thead>\n",
       "    <tr style=\"text-align: right;\">\n",
       "      <th></th>\n",
       "      <th>Extra_Working_hours</th>\n",
       "      <th>customer_satisfaction_score</th>\n",
       "      <th>table_served_scoring</th>\n",
       "      <th>table_turnover_scoring</th>\n",
       "      <th>sales_revenue_scoring</th>\n",
       "      <th>Total_score</th>\n",
       "    </tr>\n",
       "  </thead>\n",
       "  <tbody>\n",
       "    <tr>\n",
       "      <th>0</th>\n",
       "      <td>1</td>\n",
       "      <td>4</td>\n",
       "      <td>2</td>\n",
       "      <td>4</td>\n",
       "      <td>2</td>\n",
       "      <td>13</td>\n",
       "    </tr>\n",
       "    <tr>\n",
       "      <th>1</th>\n",
       "      <td>3</td>\n",
       "      <td>1</td>\n",
       "      <td>3</td>\n",
       "      <td>4</td>\n",
       "      <td>4</td>\n",
       "      <td>15</td>\n",
       "    </tr>\n",
       "    <tr>\n",
       "      <th>2</th>\n",
       "      <td>4</td>\n",
       "      <td>4</td>\n",
       "      <td>4</td>\n",
       "      <td>4</td>\n",
       "      <td>4</td>\n",
       "      <td>20</td>\n",
       "    </tr>\n",
       "    <tr>\n",
       "      <th>3</th>\n",
       "      <td>2</td>\n",
       "      <td>1</td>\n",
       "      <td>2</td>\n",
       "      <td>2</td>\n",
       "      <td>2</td>\n",
       "      <td>9</td>\n",
       "    </tr>\n",
       "    <tr>\n",
       "      <th>4</th>\n",
       "      <td>0</td>\n",
       "      <td>1</td>\n",
       "      <td>1</td>\n",
       "      <td>4</td>\n",
       "      <td>1</td>\n",
       "      <td>7</td>\n",
       "    </tr>\n",
       "  </tbody>\n",
       "</table>\n",
       "</div>"
      ],
      "text/plain": [
       "   Extra_Working_hours  customer_satisfaction_score  table_served_scoring  \\\n",
       "0                    1                            4                     2   \n",
       "1                    3                            1                     3   \n",
       "2                    4                            4                     4   \n",
       "3                    2                            1                     2   \n",
       "4                    0                            1                     1   \n",
       "\n",
       "   table_turnover_scoring  sales_revenue_scoring  Total_score  \n",
       "0                       4                      2           13  \n",
       "1                       4                      4           15  \n",
       "2                       4                      4           20  \n",
       "3                       2                      2            9  \n",
       "4                       4                      1            7  "
      ]
     },
     "execution_count": 29,
     "metadata": {},
     "output_type": "execute_result"
    }
   ],
   "source": [
    "waiter_df.head()"
   ]
  },
  {
   "cell_type": "code",
   "execution_count": 30,
   "id": "60073e49",
   "metadata": {},
   "outputs": [
    {
     "data": {
      "text/plain": [
       "20"
      ]
     },
     "execution_count": 30,
     "metadata": {},
     "output_type": "execute_result"
    }
   ],
   "source": [
    "waiter_df['Total_score'].max()"
   ]
  },
  {
   "cell_type": "code",
   "execution_count": 31,
   "id": "0356dd3f",
   "metadata": {},
   "outputs": [
    {
     "data": {
      "text/plain": [
       "4"
      ]
     },
     "execution_count": 31,
     "metadata": {},
     "output_type": "execute_result"
    }
   ],
   "source": [
    "waiter_df['Total_score'].min()"
   ]
  },
  {
   "cell_type": "code",
   "execution_count": 32,
   "id": "ca93d36e",
   "metadata": {},
   "outputs": [],
   "source": [
    "quantiles_total = waiter_df.iloc[:,-1].quantile(q=[0.25, 0.5, 0.75])\n",
    "quantiles_total = quantiles_total.to_dict()"
   ]
  },
  {
   "cell_type": "code",
   "execution_count": 33,
   "id": "6666789a",
   "metadata": {},
   "outputs": [
    {
     "data": {
      "text/plain": [
       "{0.25: 9.0, 0.5: 12.0, 0.75: 15.0}"
      ]
     },
     "execution_count": 33,
     "metadata": {},
     "output_type": "execute_result"
    }
   ],
   "source": [
    "quantiles_total"
   ]
  },
  {
   "cell_type": "code",
   "execution_count": 34,
   "id": "772bcb50",
   "metadata": {},
   "outputs": [],
   "source": [
    "def level(x):\n",
    "    if x<quantiles_total[0.25]:\n",
    "        return \"Bronze\"\n",
    "    elif x<quantiles_total[0.5]:\n",
    "        return \"Silver\"\n",
    "    elif x<quantiles_total[0.75]:\n",
    "        return \"Gold\"\n",
    "    else:\n",
    "        return \"Platinum\""
   ]
  },
  {
   "cell_type": "code",
   "execution_count": 35,
   "id": "d20a0465",
   "metadata": {},
   "outputs": [],
   "source": [
    "waiter_df['Level'] = waiter_df['Total_score'].apply(level )"
   ]
  },
  {
   "cell_type": "code",
   "execution_count": 36,
   "id": "c8babd24",
   "metadata": {},
   "outputs": [
    {
     "data": {
      "text/html": [
       "<div>\n",
       "<style scoped>\n",
       "    .dataframe tbody tr th:only-of-type {\n",
       "        vertical-align: middle;\n",
       "    }\n",
       "\n",
       "    .dataframe tbody tr th {\n",
       "        vertical-align: top;\n",
       "    }\n",
       "\n",
       "    .dataframe thead th {\n",
       "        text-align: right;\n",
       "    }\n",
       "</style>\n",
       "<table border=\"1\" class=\"dataframe\">\n",
       "  <thead>\n",
       "    <tr style=\"text-align: right;\">\n",
       "      <th></th>\n",
       "      <th>Extra_Working_hours</th>\n",
       "      <th>customer_satisfaction_score</th>\n",
       "      <th>table_served_scoring</th>\n",
       "      <th>table_turnover_scoring</th>\n",
       "      <th>sales_revenue_scoring</th>\n",
       "      <th>Total_score</th>\n",
       "      <th>Level</th>\n",
       "    </tr>\n",
       "  </thead>\n",
       "  <tbody>\n",
       "    <tr>\n",
       "      <th>0</th>\n",
       "      <td>1</td>\n",
       "      <td>4</td>\n",
       "      <td>2</td>\n",
       "      <td>4</td>\n",
       "      <td>2</td>\n",
       "      <td>13</td>\n",
       "      <td>Gold</td>\n",
       "    </tr>\n",
       "    <tr>\n",
       "      <th>1</th>\n",
       "      <td>3</td>\n",
       "      <td>1</td>\n",
       "      <td>3</td>\n",
       "      <td>4</td>\n",
       "      <td>4</td>\n",
       "      <td>15</td>\n",
       "      <td>Platinum</td>\n",
       "    </tr>\n",
       "    <tr>\n",
       "      <th>2</th>\n",
       "      <td>4</td>\n",
       "      <td>4</td>\n",
       "      <td>4</td>\n",
       "      <td>4</td>\n",
       "      <td>4</td>\n",
       "      <td>20</td>\n",
       "      <td>Platinum</td>\n",
       "    </tr>\n",
       "    <tr>\n",
       "      <th>3</th>\n",
       "      <td>2</td>\n",
       "      <td>1</td>\n",
       "      <td>2</td>\n",
       "      <td>2</td>\n",
       "      <td>2</td>\n",
       "      <td>9</td>\n",
       "      <td>Silver</td>\n",
       "    </tr>\n",
       "    <tr>\n",
       "      <th>4</th>\n",
       "      <td>0</td>\n",
       "      <td>1</td>\n",
       "      <td>1</td>\n",
       "      <td>4</td>\n",
       "      <td>1</td>\n",
       "      <td>7</td>\n",
       "      <td>Bronze</td>\n",
       "    </tr>\n",
       "  </tbody>\n",
       "</table>\n",
       "</div>"
      ],
      "text/plain": [
       "   Extra_Working_hours  customer_satisfaction_score  table_served_scoring  \\\n",
       "0                    1                            4                     2   \n",
       "1                    3                            1                     3   \n",
       "2                    4                            4                     4   \n",
       "3                    2                            1                     2   \n",
       "4                    0                            1                     1   \n",
       "\n",
       "   table_turnover_scoring  sales_revenue_scoring  Total_score     Level  \n",
       "0                       4                      2           13      Gold  \n",
       "1                       4                      4           15  Platinum  \n",
       "2                       4                      4           20  Platinum  \n",
       "3                       2                      2            9    Silver  \n",
       "4                       4                      1            7    Bronze  "
      ]
     },
     "execution_count": 36,
     "metadata": {},
     "output_type": "execute_result"
    }
   ],
   "source": [
    "waiter_df.head()"
   ]
  },
  {
   "cell_type": "code",
   "execution_count": 37,
   "id": "7543ebf4",
   "metadata": {},
   "outputs": [],
   "source": [
    "waiter_df['Level'].to_csv('Level.csv', index=False)"
   ]
  },
  {
   "cell_type": "code",
   "execution_count": null,
   "id": "0716577d",
   "metadata": {},
   "outputs": [],
   "source": []
  },
  {
   "cell_type": "code",
   "execution_count": null,
   "id": "c2a18cfa",
   "metadata": {},
   "outputs": [],
   "source": []
  }
 ],
 "metadata": {
  "kernelspec": {
   "display_name": "Python 3 (ipykernel)",
   "language": "python",
   "name": "python3"
  },
  "language_info": {
   "codemirror_mode": {
    "name": "ipython",
    "version": 3
   },
   "file_extension": ".py",
   "mimetype": "text/x-python",
   "name": "python",
   "nbconvert_exporter": "python",
   "pygments_lexer": "ipython3",
   "version": "3.10.9"
  }
 },
 "nbformat": 4,
 "nbformat_minor": 5
}
